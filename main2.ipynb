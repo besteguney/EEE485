{
 "cells": [
  {
   "cell_type": "code",
   "execution_count": 1,
   "id": "4ac95faa",
   "metadata": {},
   "outputs": [],
   "source": [
    "import numpy as np\n",
    "import pandas as pd\n",
    "import matplotlib.pyplot as plt\n",
    "import seaborn as sns\n",
    "import math\n",
    "from utils_2 import Utils\n",
    "#from utils import k_fold_cross\n",
    "from smote_2 import Smote\n",
    "from logistic_regression_3 import LogisticRegression\n",
    "from naive_bayes import NaiveBayes\n",
    "from pca import PCA"
   ]
  },
  {
   "cell_type": "code",
   "execution_count": 2,
   "id": "2473047c",
   "metadata": {},
   "outputs": [
    {
     "name": "stdout",
     "output_type": "stream",
     "text": [
      "<class 'pandas.core.frame.DataFrame'>\n",
      "RangeIndex: 1205 entries, 0 to 1204\n",
      "Data columns (total 14 columns):\n",
      " #   Column               Non-Null Count  Dtype \n",
      "---  ------               --------------  ----- \n",
      " 0   Gender               1205 non-null   object\n",
      " 1   Age                  1205 non-null   object\n",
      " 2   Education Level      1205 non-null   object\n",
      " 3   Institution Type     1205 non-null   object\n",
      " 4   IT Student           1205 non-null   object\n",
      " 5   Location             1205 non-null   object\n",
      " 6   Load-shedding        1205 non-null   object\n",
      " 7   Financial Condition  1205 non-null   object\n",
      " 8   Internet Type        1205 non-null   object\n",
      " 9   Network Type         1205 non-null   object\n",
      " 10  Class Duration       1205 non-null   object\n",
      " 11  Self Lms             1205 non-null   object\n",
      " 12  Device               1205 non-null   object\n",
      " 13  Adaptivity Level     1205 non-null   object\n",
      "dtypes: object(14)\n",
      "memory usage: 131.9+ KB\n"
     ]
    }
   ],
   "source": [
    "## Reading the data\n",
    "df = pd.read_csv('students_adaptability_level_online_education.csv')\n",
    "df.info()"
   ]
  },
  {
   "cell_type": "code",
   "execution_count": 3,
   "id": "0fd19d2f",
   "metadata": {},
   "outputs": [
    {
     "data": {
      "text/html": [
       "<div>\n",
       "<style scoped>\n",
       "    .dataframe tbody tr th:only-of-type {\n",
       "        vertical-align: middle;\n",
       "    }\n",
       "\n",
       "    .dataframe tbody tr th {\n",
       "        vertical-align: top;\n",
       "    }\n",
       "\n",
       "    .dataframe thead th {\n",
       "        text-align: right;\n",
       "    }\n",
       "</style>\n",
       "<table border=\"1\" class=\"dataframe\">\n",
       "  <thead>\n",
       "    <tr style=\"text-align: right;\">\n",
       "      <th></th>\n",
       "      <th>count</th>\n",
       "      <th>unique</th>\n",
       "      <th>top</th>\n",
       "      <th>freq</th>\n",
       "    </tr>\n",
       "  </thead>\n",
       "  <tbody>\n",
       "    <tr>\n",
       "      <th>Gender</th>\n",
       "      <td>1205</td>\n",
       "      <td>2</td>\n",
       "      <td>Boy</td>\n",
       "      <td>663</td>\n",
       "    </tr>\n",
       "    <tr>\n",
       "      <th>Age</th>\n",
       "      <td>1205</td>\n",
       "      <td>6</td>\n",
       "      <td>21-25</td>\n",
       "      <td>374</td>\n",
       "    </tr>\n",
       "    <tr>\n",
       "      <th>Education Level</th>\n",
       "      <td>1205</td>\n",
       "      <td>3</td>\n",
       "      <td>School</td>\n",
       "      <td>530</td>\n",
       "    </tr>\n",
       "    <tr>\n",
       "      <th>Institution Type</th>\n",
       "      <td>1205</td>\n",
       "      <td>2</td>\n",
       "      <td>Non Government</td>\n",
       "      <td>823</td>\n",
       "    </tr>\n",
       "    <tr>\n",
       "      <th>IT Student</th>\n",
       "      <td>1205</td>\n",
       "      <td>2</td>\n",
       "      <td>No</td>\n",
       "      <td>901</td>\n",
       "    </tr>\n",
       "    <tr>\n",
       "      <th>Location</th>\n",
       "      <td>1205</td>\n",
       "      <td>2</td>\n",
       "      <td>Yes</td>\n",
       "      <td>935</td>\n",
       "    </tr>\n",
       "    <tr>\n",
       "      <th>Load-shedding</th>\n",
       "      <td>1205</td>\n",
       "      <td>2</td>\n",
       "      <td>Low</td>\n",
       "      <td>1004</td>\n",
       "    </tr>\n",
       "    <tr>\n",
       "      <th>Financial Condition</th>\n",
       "      <td>1205</td>\n",
       "      <td>3</td>\n",
       "      <td>Mid</td>\n",
       "      <td>878</td>\n",
       "    </tr>\n",
       "    <tr>\n",
       "      <th>Internet Type</th>\n",
       "      <td>1205</td>\n",
       "      <td>2</td>\n",
       "      <td>Mobile Data</td>\n",
       "      <td>695</td>\n",
       "    </tr>\n",
       "    <tr>\n",
       "      <th>Network Type</th>\n",
       "      <td>1205</td>\n",
       "      <td>3</td>\n",
       "      <td>4G</td>\n",
       "      <td>775</td>\n",
       "    </tr>\n",
       "    <tr>\n",
       "      <th>Class Duration</th>\n",
       "      <td>1205</td>\n",
       "      <td>3</td>\n",
       "      <td>1-3</td>\n",
       "      <td>840</td>\n",
       "    </tr>\n",
       "    <tr>\n",
       "      <th>Self Lms</th>\n",
       "      <td>1205</td>\n",
       "      <td>2</td>\n",
       "      <td>No</td>\n",
       "      <td>995</td>\n",
       "    </tr>\n",
       "    <tr>\n",
       "      <th>Device</th>\n",
       "      <td>1205</td>\n",
       "      <td>3</td>\n",
       "      <td>Mobile</td>\n",
       "      <td>1013</td>\n",
       "    </tr>\n",
       "    <tr>\n",
       "      <th>Adaptivity Level</th>\n",
       "      <td>1205</td>\n",
       "      <td>3</td>\n",
       "      <td>Moderate</td>\n",
       "      <td>625</td>\n",
       "    </tr>\n",
       "  </tbody>\n",
       "</table>\n",
       "</div>"
      ],
      "text/plain": [
       "                    count unique             top  freq\n",
       "Gender               1205      2             Boy   663\n",
       "Age                  1205      6           21-25   374\n",
       "Education Level      1205      3          School   530\n",
       "Institution Type     1205      2  Non Government   823\n",
       "IT Student           1205      2              No   901\n",
       "Location             1205      2             Yes   935\n",
       "Load-shedding        1205      2             Low  1004\n",
       "Financial Condition  1205      3             Mid   878\n",
       "Internet Type        1205      2     Mobile Data   695\n",
       "Network Type         1205      3              4G   775\n",
       "Class Duration       1205      3             1-3   840\n",
       "Self Lms             1205      2              No   995\n",
       "Device               1205      3          Mobile  1013\n",
       "Adaptivity Level     1205      3        Moderate   625"
      ]
     },
     "execution_count": 3,
     "metadata": {},
     "output_type": "execute_result"
    }
   ],
   "source": [
    "# Checking the features\n",
    "df.describe().T"
   ]
  },
  {
   "cell_type": "code",
   "execution_count": 4,
   "id": "3fe19ea9",
   "metadata": {
    "scrolled": true
   },
   "outputs": [
    {
     "data": {
      "text/plain": [
       "[{'Gender': {'Boy': 0, 'Girl': 1}},\n",
       " {'Age': {'21-25': 0,\n",
       "   '16-20': 1,\n",
       "   '11-15': 2,\n",
       "   '26-30': 3,\n",
       "   '6-10': 4,\n",
       "   '1-5': 5}},\n",
       " {'Education Level': {'University': 0, 'College': 1, 'School': 2}},\n",
       " {'Institution Type': {'Non Government': 0, 'Government': 1}},\n",
       " {'IT Student': {'No': 0, 'Yes': 1}},\n",
       " {'Location': {'Yes': 0, 'No': 1}},\n",
       " {'Load-shedding': {'Low': 0, 'High': 1}},\n",
       " {'Financial Condition': {'Mid': 0, 'Poor': 1, 'Rich': 2}},\n",
       " {'Internet Type': {'Wifi': 0, 'Mobile Data': 1}},\n",
       " {'Network Type': {'4G': 0, '3G': 1, '2G': 2}},\n",
       " {'Class Duration': {'3-6': 0, '1-3': 1, '0': 2}},\n",
       " {'Self Lms': {'No': 0, 'Yes': 1}},\n",
       " {'Device': {'Tab': 0, 'Mobile': 1, 'Computer': 2}},\n",
       " {'Adaptivity Level': {'Moderate': 0, 'Low': 1, 'High': 2}}]"
      ]
     },
     "execution_count": 4,
     "metadata": {},
     "output_type": "execute_result"
    }
   ],
   "source": [
    "## Preprocessing the categorical data \n",
    "preprocesser = Utils()\n",
    "df = preprocesser.labeling(df)\n",
    "preprocesser.mapping"
   ]
  },
  {
   "cell_type": "code",
   "execution_count": 5,
   "id": "f6e45d95",
   "metadata": {},
   "outputs": [
    {
     "name": "stderr",
     "output_type": "stream",
     "text": [
      "/var/folders/xn/ckzmp8n52bj64l343d38bl4r0000gn/T/ipykernel_25766/3298849750.py:5: FutureWarning: The frame.append method is deprecated and will be removed from pandas in a future version. Use pandas.concat instead.\n",
      "  df = df.append(pd.DataFrame(generated_data, columns=df.columns.tolist()))\n"
     ]
    },
    {
     "data": {
      "text/plain": [
       "(1405, 14)"
      ]
     },
     "execution_count": 5,
     "metadata": {},
     "output_type": "execute_result"
    }
   ],
   "source": [
    "## Handling imbalances in data\n",
    "smote = Smote(df, 200, 5)\n",
    "generated_data = smote.smote()\n",
    "generated_data = np.append(generated_data, np.ones((generated_data.shape[0],1)) * 2, axis=1)\n",
    "df = df.append(pd.DataFrame(generated_data, columns=df.columns.tolist()))\n",
    "df.shape\n"
   ]
  },
  {
   "cell_type": "code",
   "execution_count": 16,
   "id": "06a39a4d",
   "metadata": {},
   "outputs": [],
   "source": [
    "X = df.iloc[:, :-1].values\n",
    "Y = df.iloc[:, -1:].values"
   ]
  },
  {
   "cell_type": "code",
   "execution_count": 7,
   "id": "26b8e852",
   "metadata": {},
   "outputs": [],
   "source": [
    "## Applying one hot encoding to response\n",
    "one_hot_df = preprocesser.one_hot_encoding(df, 'Adaptivity Level')\n",
    "one_hot_df.rename(columns={'Adaptivity Level_0.0': 'Adaptivity Level_Moderate', \n",
    "                           'Adaptivity Level_1.0': 'Adaptivity Level_Low', \n",
    "                           'Adaptivity Level_2.0': 'Adaptivity Level_High',}, inplace=True)"
   ]
  },
  {
   "cell_type": "code",
   "execution_count": 8,
   "id": "246f6250",
   "metadata": {},
   "outputs": [],
   "source": [
    "df.reset_index(drop=True, inplace=True)"
   ]
  },
  {
   "cell_type": "code",
   "execution_count": 9,
   "id": "7ab993f7",
   "metadata": {},
   "outputs": [
    {
     "data": {
      "text/html": [
       "<div>\n",
       "<style scoped>\n",
       "    .dataframe tbody tr th:only-of-type {\n",
       "        vertical-align: middle;\n",
       "    }\n",
       "\n",
       "    .dataframe tbody tr th {\n",
       "        vertical-align: top;\n",
       "    }\n",
       "\n",
       "    .dataframe thead th {\n",
       "        text-align: right;\n",
       "    }\n",
       "</style>\n",
       "<table border=\"1\" class=\"dataframe\">\n",
       "  <thead>\n",
       "    <tr style=\"text-align: right;\">\n",
       "      <th></th>\n",
       "      <th>Gender</th>\n",
       "      <th>Age</th>\n",
       "      <th>Education Level</th>\n",
       "      <th>Institution Type</th>\n",
       "      <th>IT Student</th>\n",
       "      <th>Location</th>\n",
       "      <th>Load-shedding</th>\n",
       "      <th>Financial Condition</th>\n",
       "      <th>Internet Type</th>\n",
       "      <th>Network Type</th>\n",
       "      <th>Class Duration</th>\n",
       "      <th>Self Lms</th>\n",
       "      <th>Device</th>\n",
       "      <th>Adaptivity Level_High</th>\n",
       "      <th>Adaptivity Level_Low</th>\n",
       "      <th>Adaptivity Level_Moderate</th>\n",
       "    </tr>\n",
       "  </thead>\n",
       "  <tbody>\n",
       "    <tr>\n",
       "      <th>0</th>\n",
       "      <td>0.0</td>\n",
       "      <td>0.0</td>\n",
       "      <td>0.0</td>\n",
       "      <td>0.0</td>\n",
       "      <td>0.0</td>\n",
       "      <td>0.0</td>\n",
       "      <td>0.0</td>\n",
       "      <td>0.0</td>\n",
       "      <td>0.0</td>\n",
       "      <td>0.0</td>\n",
       "      <td>0.0</td>\n",
       "      <td>0.0</td>\n",
       "      <td>0.0</td>\n",
       "      <td>0</td>\n",
       "      <td>0</td>\n",
       "      <td>1</td>\n",
       "    </tr>\n",
       "    <tr>\n",
       "      <th>1</th>\n",
       "      <td>1.0</td>\n",
       "      <td>0.0</td>\n",
       "      <td>0.0</td>\n",
       "      <td>0.0</td>\n",
       "      <td>0.0</td>\n",
       "      <td>0.0</td>\n",
       "      <td>1.0</td>\n",
       "      <td>0.0</td>\n",
       "      <td>1.0</td>\n",
       "      <td>0.0</td>\n",
       "      <td>1.0</td>\n",
       "      <td>1.0</td>\n",
       "      <td>1.0</td>\n",
       "      <td>0</td>\n",
       "      <td>0</td>\n",
       "      <td>1</td>\n",
       "    </tr>\n",
       "    <tr>\n",
       "      <th>2</th>\n",
       "      <td>1.0</td>\n",
       "      <td>1.0</td>\n",
       "      <td>1.0</td>\n",
       "      <td>1.0</td>\n",
       "      <td>0.0</td>\n",
       "      <td>0.0</td>\n",
       "      <td>0.0</td>\n",
       "      <td>0.0</td>\n",
       "      <td>0.0</td>\n",
       "      <td>0.0</td>\n",
       "      <td>1.0</td>\n",
       "      <td>0.0</td>\n",
       "      <td>1.0</td>\n",
       "      <td>0</td>\n",
       "      <td>0</td>\n",
       "      <td>1</td>\n",
       "    </tr>\n",
       "    <tr>\n",
       "      <th>3</th>\n",
       "      <td>1.0</td>\n",
       "      <td>2.0</td>\n",
       "      <td>2.0</td>\n",
       "      <td>0.0</td>\n",
       "      <td>0.0</td>\n",
       "      <td>0.0</td>\n",
       "      <td>0.0</td>\n",
       "      <td>0.0</td>\n",
       "      <td>1.0</td>\n",
       "      <td>0.0</td>\n",
       "      <td>1.0</td>\n",
       "      <td>0.0</td>\n",
       "      <td>1.0</td>\n",
       "      <td>0</td>\n",
       "      <td>0</td>\n",
       "      <td>1</td>\n",
       "    </tr>\n",
       "    <tr>\n",
       "      <th>4</th>\n",
       "      <td>1.0</td>\n",
       "      <td>1.0</td>\n",
       "      <td>2.0</td>\n",
       "      <td>0.0</td>\n",
       "      <td>0.0</td>\n",
       "      <td>0.0</td>\n",
       "      <td>0.0</td>\n",
       "      <td>1.0</td>\n",
       "      <td>1.0</td>\n",
       "      <td>1.0</td>\n",
       "      <td>2.0</td>\n",
       "      <td>0.0</td>\n",
       "      <td>1.0</td>\n",
       "      <td>0</td>\n",
       "      <td>1</td>\n",
       "      <td>0</td>\n",
       "    </tr>\n",
       "  </tbody>\n",
       "</table>\n",
       "</div>"
      ],
      "text/plain": [
       "   Gender  Age  Education Level  Institution Type  IT Student  Location  \\\n",
       "0     0.0  0.0              0.0               0.0         0.0       0.0   \n",
       "1     1.0  0.0              0.0               0.0         0.0       0.0   \n",
       "2     1.0  1.0              1.0               1.0         0.0       0.0   \n",
       "3     1.0  2.0              2.0               0.0         0.0       0.0   \n",
       "4     1.0  1.0              2.0               0.0         0.0       0.0   \n",
       "\n",
       "   Load-shedding  Financial Condition  Internet Type  Network Type  \\\n",
       "0            0.0                  0.0            0.0           0.0   \n",
       "1            1.0                  0.0            1.0           0.0   \n",
       "2            0.0                  0.0            0.0           0.0   \n",
       "3            0.0                  0.0            1.0           0.0   \n",
       "4            0.0                  1.0            1.0           1.0   \n",
       "\n",
       "   Class Duration  Self Lms  Device  Adaptivity Level_High  \\\n",
       "0             0.0       0.0     0.0                      0   \n",
       "1             1.0       1.0     1.0                      0   \n",
       "2             1.0       0.0     1.0                      0   \n",
       "3             1.0       0.0     1.0                      0   \n",
       "4             2.0       0.0     1.0                      0   \n",
       "\n",
       "   Adaptivity Level_Low  Adaptivity Level_Moderate  \n",
       "0                     0                          1  \n",
       "1                     0                          1  \n",
       "2                     0                          1  \n",
       "3                     0                          1  \n",
       "4                     1                          0  "
      ]
     },
     "execution_count": 9,
     "metadata": {},
     "output_type": "execute_result"
    }
   ],
   "source": [
    "one_hot_df.reset_index(drop=True, inplace=True)\n",
    "one_hot_df = one_hot_df.reindex(columns=one_hot_df.columns.tolist()[:13] + ['Adaptivity Level_High', 'Adaptivity Level_Low', 'Adaptivity Level_Moderate'])\n",
    "one_hot_df.head()"
   ]
  },
  {
   "cell_type": "code",
   "execution_count": 10,
   "id": "ce98299b",
   "metadata": {},
   "outputs": [
    {
     "name": "stdout",
     "output_type": "stream",
     "text": [
      "0.37857142857142856\n",
      "0.35\n",
      "0.34285714285714286\n",
      "0.2357142857142857\n",
      "0.38571428571428573\n",
      "0.34285714285714286\n",
      "0.30714285714285716\n",
      "0.35714285714285715\n",
      "0.37857142857142856\n",
      "0.3\n",
      "0.3378571428571428\n"
     ]
    }
   ],
   "source": [
    "# Logistic Regression\n",
    "logistic_regression = LogisticRegression(0.03, 10000)\n",
    "weight = np.zeros((13,1))\n",
    "print(logistic_regression.k_fold_cross(one_hot_df, weight, 10))"
   ]
  },
  {
   "cell_type": "code",
   "execution_count": 11,
   "id": "bd94f379",
   "metadata": {},
   "outputs": [
    {
     "name": "stdout",
     "output_type": "stream",
     "text": [
      "0.35714285714285715\n",
      "0.34285714285714286\n",
      "0.2785714285714286\n",
      "0.37142857142857144\n",
      "0.35\n",
      "0.3357142857142857\n",
      "0.34285714285714286\n",
      "0.36428571428571427\n",
      "0.2857142857142857\n",
      "0.32857142857142857\n",
      "0.33571428571428574\n"
     ]
    }
   ],
   "source": [
    "logistic_regression = LogisticRegression(0.03, 10000, True, 2, 0.1)\n",
    "print(logistic_regression.k_fold_cross(one_hot_df, weight, 10))"
   ]
  },
  {
   "cell_type": "code",
   "execution_count": 13,
   "id": "be1ac286",
   "metadata": {},
   "outputs": [
    {
     "name": "stdout",
     "output_type": "stream",
     "text": [
      "0.3357142857142857\n",
      "0.38571428571428573\n",
      "0.32857142857142857\n",
      "0.35714285714285715\n",
      "0.29285714285714287\n",
      "0.2714285714285714\n",
      "0.37142857142857144\n",
      "0.35\n",
      "0.35\n",
      "0.2857142857142857\n",
      "0.33285714285714285\n"
     ]
    }
   ],
   "source": [
    "logistic_regression = LogisticRegression(0.03, 10000, True, 1, 0.1)\n",
    "print(logistic_regression.k_fold_cross(one_hot_df, weight, 10))"
   ]
  },
  {
   "cell_type": "code",
   "execution_count": 17,
   "id": "a2270159",
   "metadata": {},
   "outputs": [],
   "source": [
    "# applying pca\n",
    "pca = PCA(X)"
   ]
  },
  {
   "cell_type": "code",
   "execution_count": 18,
   "id": "71efea91",
   "metadata": {},
   "outputs": [
    {
     "name": "stdout",
     "output_type": "stream",
     "text": [
      "(13, 13)\n"
     ]
    },
    {
     "data": {
      "text/plain": [
       "0.8780500611160481"
      ]
     },
     "execution_count": 18,
     "metadata": {},
     "output_type": "execute_result"
    }
   ],
   "source": [
    "pca.pve(8)"
   ]
  },
  {
   "cell_type": "code",
   "execution_count": 22,
   "id": "f380d1e0",
   "metadata": {},
   "outputs": [
    {
     "name": "stdout",
     "output_type": "stream",
     "text": [
      "(13, 13)\n"
     ]
    }
   ],
   "source": [
    "pca_x = pca.examine(8)\n",
    "\n",
    "new_features = X @ pca_x"
   ]
  },
  {
   "cell_type": "code",
   "execution_count": 24,
   "id": "9e8748e3",
   "metadata": {},
   "outputs": [
    {
     "data": {
      "text/html": [
       "<div>\n",
       "<style scoped>\n",
       "    .dataframe tbody tr th:only-of-type {\n",
       "        vertical-align: middle;\n",
       "    }\n",
       "\n",
       "    .dataframe tbody tr th {\n",
       "        vertical-align: top;\n",
       "    }\n",
       "\n",
       "    .dataframe thead th {\n",
       "        text-align: right;\n",
       "    }\n",
       "</style>\n",
       "<table border=\"1\" class=\"dataframe\">\n",
       "  <thead>\n",
       "    <tr style=\"text-align: right;\">\n",
       "      <th></th>\n",
       "      <th>PC1</th>\n",
       "      <th>PC2</th>\n",
       "      <th>PC3</th>\n",
       "      <th>PC4</th>\n",
       "      <th>PC5</th>\n",
       "      <th>PC6</th>\n",
       "      <th>PC7</th>\n",
       "      <th>PC8</th>\n",
       "      <th>Adaptivity Level_High</th>\n",
       "      <th>Adaptivity Level_Low</th>\n",
       "      <th>Adaptivity Level_Moderate</th>\n",
       "    </tr>\n",
       "  </thead>\n",
       "  <tbody>\n",
       "    <tr>\n",
       "      <th>0</th>\n",
       "      <td>0.000000</td>\n",
       "      <td>0.000000</td>\n",
       "      <td>0.000000</td>\n",
       "      <td>0.000000</td>\n",
       "      <td>0.000000</td>\n",
       "      <td>0.000000</td>\n",
       "      <td>0.000000</td>\n",
       "      <td>0.000000</td>\n",
       "      <td>0</td>\n",
       "      <td>0</td>\n",
       "      <td>1</td>\n",
       "    </tr>\n",
       "    <tr>\n",
       "      <th>1</th>\n",
       "      <td>-0.016382</td>\n",
       "      <td>-0.264376</td>\n",
       "      <td>0.393696</td>\n",
       "      <td>0.689260</td>\n",
       "      <td>-0.684856</td>\n",
       "      <td>-0.196187</td>\n",
       "      <td>-1.282159</td>\n",
       "      <td>-0.733923</td>\n",
       "      <td>0</td>\n",
       "      <td>0</td>\n",
       "      <td>1</td>\n",
       "    </tr>\n",
       "    <tr>\n",
       "      <th>2</th>\n",
       "      <td>1.380476</td>\n",
       "      <td>-0.285977</td>\n",
       "      <td>0.386642</td>\n",
       "      <td>0.567124</td>\n",
       "      <td>0.407751</td>\n",
       "      <td>-0.358297</td>\n",
       "      <td>-1.299652</td>\n",
       "      <td>0.403229</td>\n",
       "      <td>0</td>\n",
       "      <td>0</td>\n",
       "      <td>1</td>\n",
       "    </tr>\n",
       "    <tr>\n",
       "      <th>3</th>\n",
       "      <td>2.781571</td>\n",
       "      <td>-0.630096</td>\n",
       "      <td>-0.137826</td>\n",
       "      <td>0.402572</td>\n",
       "      <td>-0.255571</td>\n",
       "      <td>0.069385</td>\n",
       "      <td>-1.310062</td>\n",
       "      <td>-0.483087</td>\n",
       "      <td>0</td>\n",
       "      <td>0</td>\n",
       "      <td>1</td>\n",
       "    </tr>\n",
       "    <tr>\n",
       "      <th>4</th>\n",
       "      <td>2.082154</td>\n",
       "      <td>-0.626845</td>\n",
       "      <td>-0.904242</td>\n",
       "      <td>1.731236</td>\n",
       "      <td>-0.411150</td>\n",
       "      <td>-0.003939</td>\n",
       "      <td>-2.128188</td>\n",
       "      <td>-0.373822</td>\n",
       "      <td>0</td>\n",
       "      <td>1</td>\n",
       "      <td>0</td>\n",
       "    </tr>\n",
       "  </tbody>\n",
       "</table>\n",
       "</div>"
      ],
      "text/plain": [
       "        PC1       PC2       PC3       PC4       PC5       PC6       PC7  \\\n",
       "0  0.000000  0.000000  0.000000  0.000000  0.000000  0.000000  0.000000   \n",
       "1 -0.016382 -0.264376  0.393696  0.689260 -0.684856 -0.196187 -1.282159   \n",
       "2  1.380476 -0.285977  0.386642  0.567124  0.407751 -0.358297 -1.299652   \n",
       "3  2.781571 -0.630096 -0.137826  0.402572 -0.255571  0.069385 -1.310062   \n",
       "4  2.082154 -0.626845 -0.904242  1.731236 -0.411150 -0.003939 -2.128188   \n",
       "\n",
       "        PC8  Adaptivity Level_High  Adaptivity Level_Low  \\\n",
       "0  0.000000                      0                     0   \n",
       "1 -0.733923                      0                     0   \n",
       "2  0.403229                      0                     0   \n",
       "3 -0.483087                      0                     0   \n",
       "4 -0.373822                      0                     1   \n",
       "\n",
       "   Adaptivity Level_Moderate  \n",
       "0                          1  \n",
       "1                          1  \n",
       "2                          1  \n",
       "3                          1  \n",
       "4                          0  "
      ]
     },
     "execution_count": 24,
     "metadata": {},
     "output_type": "execute_result"
    }
   ],
   "source": [
    "new_features = pd.DataFrame(new_features, columns=[\"PC\"+str(i) for i in range(1,9)])\n",
    "pca_df = pd.concat([new_features, one_hot_df.iloc[:, -3:]], axis=1)\n",
    "pca_df.head()"
   ]
  },
  {
   "cell_type": "code",
   "execution_count": 25,
   "id": "f9a78b04",
   "metadata": {},
   "outputs": [
    {
     "name": "stdout",
     "output_type": "stream",
     "text": [
      "0.42142857142857143\n",
      "0.30714285714285716\n",
      "0.42857142857142855\n",
      "0.37142857142857144\n",
      "0.37142857142857144\n",
      "0.36428571428571427\n",
      "0.4\n",
      "0.34285714285714286\n",
      "0.37857142857142856\n",
      "0.37857142857142856\n",
      "0.37642857142857145\n"
     ]
    }
   ],
   "source": [
    "logistic_regression = LogisticRegression(0.03, 10000, True, 1, 0.1)\n",
    "weight = np.zeros((8,1))\n",
    "print(logistic_regression.k_fold_cross(pca_df, weight, 10))"
   ]
  },
  {
   "cell_type": "code",
   "execution_count": 27,
   "id": "3cc511d7",
   "metadata": {},
   "outputs": [
    {
     "name": "stdout",
     "output_type": "stream",
     "text": [
      "yvector (1405, 1)\n"
     ]
    },
    {
     "data": {
      "text/plain": [
       "0.36928571428571433"
      ]
     },
     "execution_count": 27,
     "metadata": {},
     "output_type": "execute_result"
    }
   ],
   "source": [
    "## Naive Bayes\n",
    "nb = NaiveBayes()\n",
    "nb.k_fold_cross(df, 10)\n"
   ]
  },
  {
   "cell_type": "code",
   "execution_count": null,
   "id": "a8f332e0",
   "metadata": {},
   "outputs": [],
   "source": [
    "pca_df = pd.concat([new_features, df.iloc[:, -1:]], axis=1)\n",
    "print(nb.k_fold_cross)"
   ]
  }
 ],
 "metadata": {
  "kernelspec": {
   "display_name": "Python 3 (ipykernel)",
   "language": "python",
   "name": "python3"
  },
  "language_info": {
   "codemirror_mode": {
    "name": "ipython",
    "version": 3
   },
   "file_extension": ".py",
   "mimetype": "text/x-python",
   "name": "python",
   "nbconvert_exporter": "python",
   "pygments_lexer": "ipython3",
   "version": "3.9.16"
  }
 },
 "nbformat": 4,
 "nbformat_minor": 5
}
